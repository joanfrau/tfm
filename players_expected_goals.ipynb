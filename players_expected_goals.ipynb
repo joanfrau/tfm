{
 "cells": [
  {
   "cell_type": "markdown",
   "id": "acquired-potato",
   "metadata": {},
   "source": [
    "# Expected goals (xG) model"
   ]
  },
  {
   "cell_type": "markdown",
   "id": "scientific-feeding",
   "metadata": {},
   "source": [
    "Imports"
   ]
  },
  {
   "cell_type": "code",
   "execution_count": null,
   "id": "sitting-match",
   "metadata": {},
   "outputs": [],
   "source": [
    "import pandas as pd\n",
    "import numpy as np\n",
    "import math\n",
    "import seaborn as sns\n",
    "import matplotlib.pyplot as plt\n",
    "\n",
    "from sklearn.model_selection import train_test_split\n",
    "from sklearn.metrics import confusion_matrix\n",
    "from sklearn import utils\n",
    "\n",
    "from sklearn.linear_model import LogisticRegression\n",
    "from sklearn.ensemble import GradientBoostingClassifier\n",
    "from sklearn.svm import SVC\n",
    "from sklearn.ensemble import RandomForestClassifier\n",
    "from sklearn.neural_network import MLPClassifier\n",
    "\n",
    "from sklearn.model_selection import cross_val_score\n",
    "from sklearn.model_selection import GridSearchCV\n",
    "from sklearn.utils import shuffle\n",
    "from sklearn.model_selection import KFold\n",
    "\n",
    "import random\n",
    "import imblearn\n",
    "import pickle"
   ]
  },
  {
   "cell_type": "markdown",
   "id": "convertible-place",
   "metadata": {},
   "source": [
    "## Lectura de los datos."
   ]
  },
  {
   "cell_type": "code",
   "execution_count": null,
   "id": "bright-anaheim",
   "metadata": {},
   "outputs": [],
   "source": [
    "dataset = pd.read_csv(\"data/dataset.csv\")"
   ]
  },
  {
   "cell_type": "markdown",
   "id": "delayed-canberra",
   "metadata": {},
   "source": [
    "## Modelos"
   ]
  },
  {
   "cell_type": "code",
   "execution_count": null,
   "id": "defensive-trinidad",
   "metadata": {},
   "outputs": [],
   "source": [
    "playername = \"Lionel Andrés Messi Cuccittini\"\n",
    "#playername = \"Luis Alberto Suárez Díaz\""
   ]
  },
  {
   "cell_type": "code",
   "execution_count": null,
   "id": "fatal-machinery",
   "metadata": {},
   "outputs": [],
   "source": [
    "dataset = dataset[dataset[\"player\"]==playername]\n",
    "dataset = dataset.reset_index(drop=True)"
   ]
  },
  {
   "cell_type": "code",
   "execution_count": null,
   "id": "subject-wonder",
   "metadata": {},
   "outputs": [],
   "source": [
    "dataset.shape"
   ]
  },
  {
   "cell_type": "code",
   "execution_count": null,
   "id": "future-stations",
   "metadata": {},
   "outputs": [],
   "source": [
    "dataset.head()"
   ]
  },
  {
   "cell_type": "code",
   "execution_count": null,
   "id": "valid-theater",
   "metadata": {},
   "outputs": [],
   "source": [
    "print(\"Number No goals\",len(dataset[dataset.goal==0]))\n",
    "print(\"Number goals\",len(dataset[dataset.goal==1]))"
   ]
  },
  {
   "cell_type": "code",
   "execution_count": null,
   "id": "broke-detail",
   "metadata": {},
   "outputs": [],
   "source": [
    "dataset = dataset.drop_duplicates()\n",
    "dataset = dataset.drop(dataset[(dataset.angle>3.14)].index)\n",
    "dataset = dataset.drop(dataset[(dataset.distance>60)].index)\n",
    "dataset = dataset.drop(dataset[(dataset.angle==0)].index)"
   ]
  },
  {
   "cell_type": "code",
   "execution_count": null,
   "id": "wooden-wagon",
   "metadata": {},
   "outputs": [],
   "source": [
    "X = dataset.copy()\n",
    "X.drop([\"player\",\"team\",\"goal\"], axis=1, inplace=True)\n",
    "y = dataset[[\"goal\"]].copy()\n",
    "\n",
    "#SMOTEtlink = imblearn.combine.SMOTETomek(sampling_strategy=\"all\", random_state=42)\n",
    "#X, y = SMOTEtlink.fit_resample(X, y)\n",
    "\n",
    "SMOTEenn = imblearn.combine.SMOTEENN(sampling_strategy=\"minority\", random_state=42)\n",
    "X, y = SMOTEenn.fit_resample(X, y)\n",
    "\n",
    "dataset = pd.concat([X, y], axis=1)"
   ]
  },
  {
   "cell_type": "code",
   "execution_count": null,
   "id": "undefined-howard",
   "metadata": {},
   "outputs": [],
   "source": [
    "print(\"Number No goals\",len(dataset[dataset.goal==0]))\n",
    "print(\"Number goals\",len(dataset[dataset.goal==1]))"
   ]
  },
  {
   "cell_type": "code",
   "execution_count": null,
   "id": "raising-exemption",
   "metadata": {},
   "outputs": [],
   "source": [
    "for i,s in dataset.iterrows():\n",
    "    \n",
    "    contadorTipojugada=0\n",
    "    contadorTipoRemate=0\n",
    "    contadorParteCuerpo=0\n",
    "    \n",
    "    if s[\"Open Play\"]==0 and s[\"Corner\"]==0 and s[\"Free Kick\"]==0 and s[\"Penalty\"]==0:\n",
    "        dataset.drop(i)\n",
    "    else:\n",
    "        if s[\"Open Play\"]==1:\n",
    "            contadorTipojugada += 1\n",
    "        if s[\"Corner\"]==1:\n",
    "            contadorTipojugada += 1\n",
    "        if s[\"Free Kick\"]==1:\n",
    "            contadorTipojugada += 1\n",
    "        if s[\"Penalty\"]==1:\n",
    "            contadorTipojugada += 1\n",
    "            \n",
    "    if s[\"Backheel\"]==0 and s[\"Diving Header\"]==0 and s[\"Half Volley\"]==0 and s[\"Lob\"]==0 and s[\"Normal\"]==0 and s[\"Overhead Kick\"]==0 and s[\"Volley\"]==0:\n",
    "        dataset.drop(i)\n",
    "    else:\n",
    "        if s[\"Backheel\"]==1:\n",
    "            contadorTipoRemate += 1\n",
    "        if s[\"Diving Header\"]==1:\n",
    "            contadorTipoRemate += 1\n",
    "        if s[\"Half Volley\"]==1:\n",
    "            contadorTipoRemate += 1\n",
    "        if s[\"Lob\"]==1:\n",
    "            contadorTipoRemate += 1\n",
    "        if s[\"Normal\"]==1:\n",
    "            contadorTipoRemate += 1\n",
    "        if s[\"Overhead Kick\"]==1:\n",
    "            contadorTipoRemate += 1\n",
    "        if s[\"Volley\"]==1:\n",
    "            contadorTipoRemate += 1\n",
    "    \n",
    "    if s[\"Head\"]==1:\n",
    "        contadorParteCuerpo += 1\n",
    "    if s[\"Other\"]==1:\n",
    "        contadorParteCuerpo += 1\n",
    "    if s[\"preferred_foot\"]==1:\n",
    "        contadorParteCuerpo += 1\n",
    "    if s[\"not_preferred_foot\"]==1:\n",
    "        contadorParteCuerpo += 1\n",
    "        \n",
    "    if contadorTipojugada > 1:\n",
    "        dataset.drop(i)\n",
    "    if contadorTipoRemate > 1:\n",
    "        dataset.drop(i)\n",
    "    if contadorParteCuerpo > 1:\n",
    "        dataset.drop(i)\n",
    "        \n",
    "dataset = dataset.drop(dataset[(dataset.Head==0) & (dataset.Other==0) & (dataset.preferred_foot==0) & (dataset.not_preferred_foot==0)].index)\n",
    "dataset = dataset.drop(dataset[(dataset.angle>3.14)].index)\n",
    "dataset = dataset.drop(dataset[(dataset.distance>60)].index)\n",
    "dataset = dataset.drop(dataset[(dataset.angle==0)].index)"
   ]
  },
  {
   "cell_type": "code",
   "execution_count": null,
   "id": "atomic-bahrain",
   "metadata": {},
   "outputs": [],
   "source": [
    "dataset = dataset.drop_duplicates()"
   ]
  },
  {
   "cell_type": "code",
   "execution_count": null,
   "id": "complete-advertiser",
   "metadata": {},
   "outputs": [],
   "source": [
    "print(\"Number No goals\",len(dataset[dataset.goal==0]))\n",
    "print(\"Number goals\",len(dataset[dataset.goal==1]))"
   ]
  },
  {
   "cell_type": "code",
   "execution_count": null,
   "id": "surrounded-whole",
   "metadata": {},
   "outputs": [],
   "source": [
    "sns.scatterplot(data=dataset, x=\"angle\", y=\"distance\", hue=\"goal\", s=2)"
   ]
  },
  {
   "cell_type": "code",
   "execution_count": null,
   "id": "olive-majority",
   "metadata": {},
   "outputs": [],
   "source": [
    "results = []\n",
    "\n",
    "def call_model(model, dataset_num, X_train, X_test, y_train, y_test):\n",
    "    if model == \"LR\":\n",
    "        clf = LogisticRegression(max_iter=10000, random_state=42)\n",
    "    elif model == \"GBR\":\n",
    "        clf = GradientBoostingClassifier(random_state=42)\n",
    "    elif model == \"SVM\":\n",
    "        clf = SVC(probability=True, random_state=42)\n",
    "    elif model == \"RFC\":\n",
    "        clf = RandomForestClassifier(random_state=42)\n",
    "    elif model == \"MLP\":  \n",
    "        clf = MLPClassifier(max_iter=500, random_state=42)\n",
    "    \n",
    "    scores = cross_val_score(clf, X_train, y_train, scoring='accuracy', cv=10)\n",
    "    score = np.mean(scores)\n",
    "    clf = clf.fit(X_train, y_train)\n",
    "    pred = clf.predict(X_test)\n",
    "    pred_proba = clf.predict_proba(X_test)\n",
    "    score_t = clf.score(X_test, y_test)\n",
    "    cm = confusion_matrix(y_test, pred)\n",
    "    print(cm)\n",
    "\n",
    "    global results\n",
    "    results.append([model, dataset_num, score])\n",
    "    \n",
    "    return [score, score_t, pred, pred_proba, cm]"
   ]
  },
  {
   "cell_type": "markdown",
   "id": "covered-revelation",
   "metadata": {},
   "source": [
    "Posibles datasets"
   ]
  },
  {
   "cell_type": "code",
   "execution_count": null,
   "id": "broken-manhattan",
   "metadata": {},
   "outputs": [],
   "source": [
    "dataset1 = dataset[['distance', 'angle','goal']].copy()\n",
    "\n",
    "dataset2 = dataset[['distance', 'angle', 'Head', 'Other', 'preferred_foot',\n",
    "       'not_preferred_foot', 'goal']].copy()\n",
    "\n",
    "dataset3 = dataset[['distance', 'angle', 'Corner', 'Free Kick', 'Open Play', 'Penalty',\n",
    "        'Head', 'Other', 'preferred_foot', 'not_preferred_foot', 'goal']].copy()\n",
    "\n",
    "dataset4 =  dataset[['distance', 'angle', 'under_pressure', 'follows_dribble', 'one_on_one',\n",
    "       'first_time', 'defenders_between', 'Corner', 'Free Kick', 'Open Play', 'Penalty', \n",
    "        'Head', 'Other', 'preferred_foot', 'not_preferred_foot', 'goal']].copy()\n",
    "\n",
    "dataset5 = dataset[['distance', 'angle', 'under_pressure', 'follows_dribble', 'one_on_one',\n",
    "       'first_time', 'defenders_between', 'Corner', 'Free Kick', 'Open Play', 'Penalty', 'Backheel', \n",
    "        'Diving Header', 'Half Volley', 'Lob', 'Normal', 'Overhead Kick', 'Volley', 'Head',\n",
    "        'Other', 'preferred_foot', 'not_preferred_foot', 'goal']].copy()"
   ]
  },
  {
   "cell_type": "code",
   "execution_count": null,
   "id": "revised-cosmetic",
   "metadata": {},
   "outputs": [],
   "source": [
    "X_train, X_test, y_train, y_test = train_test_split(dataset1.iloc[:,:-1], dataset1.iloc[:,-1], test_size=0.25, random_state=42)\n",
    "res = call_model(\"LR\", \"dataset1\", X_train, X_test, y_train, y_test)\n",
    "res = call_model(\"GBR\", \"dataset1\", X_train, X_test, y_train, y_test)\n",
    "res = call_model(\"SVM\", \"dataset1\", X_train, X_test, y_train, y_test)\n",
    "res = call_model(\"RFC\", \"dataset1\", X_train, X_test, y_train, y_test)\n",
    "res = call_model(\"MLP\", \"dataset1\", X_train, X_test, y_train, y_test)"
   ]
  },
  {
   "cell_type": "code",
   "execution_count": null,
   "id": "welcome-tuesday",
   "metadata": {},
   "outputs": [],
   "source": [
    "X_train, X_test, y_train, y_test = train_test_split(dataset2.iloc[:,:-1], dataset2.iloc[:,-1], test_size=0.25, random_state=42)\n",
    "res = call_model(\"LR\", \"dataset2\", X_train, X_test, y_train, y_test)\n",
    "res = call_model(\"GBR\", \"dataset2\", X_train, X_test, y_train, y_test)\n",
    "res = call_model(\"SVM\", \"dataset2\", X_train, X_test, y_train, y_test)\n",
    "res = call_model(\"RFC\", \"dataset2\", X_train, X_test, y_train, y_test)\n",
    "res = call_model(\"MLP\", \"dataset2\", X_train, X_test, y_train, y_test)"
   ]
  },
  {
   "cell_type": "code",
   "execution_count": null,
   "id": "tribal-coach",
   "metadata": {},
   "outputs": [],
   "source": [
    "X_train, X_test, y_train, y_test = train_test_split(dataset3.iloc[:,:-1], dataset3.iloc[:,-1], test_size=0.25, random_state=42)\n",
    "res = call_model(\"LR\", \"dataset3\", X_train, X_test, y_train, y_test)\n",
    "res = call_model(\"GBR\", \"dataset3\", X_train, X_test, y_train, y_test)\n",
    "res = call_model(\"SVM\", \"dataset3\", X_train, X_test, y_train, y_test)\n",
    "res = call_model(\"RFC\", \"dataset3\", X_train, X_test, y_train, y_test)\n",
    "res = call_model(\"MLP\", \"dataset3\", X_train, X_test, y_train, y_test)"
   ]
  },
  {
   "cell_type": "code",
   "execution_count": null,
   "id": "optional-possibility",
   "metadata": {},
   "outputs": [],
   "source": [
    "X_train, X_test, y_train, y_test = train_test_split(dataset4.iloc[:,:-1], dataset4.iloc[:,-1], test_size=0.25, random_state=42)\n",
    "res = call_model(\"LR\", \"dataset4\", X_train, X_test, y_train, y_test)\n",
    "res = call_model(\"GBR\", \"dataset4\", X_train, X_test, y_train, y_test)\n",
    "res = call_model(\"SVM\", \"dataset4\", X_train, X_test, y_train, y_test)\n",
    "res = call_model(\"RFC\", \"dataset4\", X_train, X_test, y_train, y_test)\n",
    "res = call_model(\"MLP\", \"dataset4\", X_train, X_test, y_train, y_test)"
   ]
  },
  {
   "cell_type": "code",
   "execution_count": null,
   "id": "covered-primary",
   "metadata": {},
   "outputs": [],
   "source": [
    "X_train, X_test, y_train, y_test = train_test_split(dataset5.iloc[:,:-1], dataset5.iloc[:,-1], test_size=0.25, random_state=42)\n",
    "res = call_model(\"LR\", \"dataset5\", X_train, X_test, y_train, y_test)\n",
    "res = call_model(\"GBR\", \"dataset5\", X_train, X_test, y_train, y_test)\n",
    "res = call_model(\"SVM\", \"dataset5\", X_train, X_test, y_train, y_test)\n",
    "res = call_model(\"RFC\", \"dataset5\", X_train, X_test, y_train, y_test)\n",
    "res = call_model(\"MLP\", \"dataset5\", X_train, X_test, y_train, y_test)"
   ]
  },
  {
   "cell_type": "code",
   "execution_count": null,
   "id": "turned-cisco",
   "metadata": {},
   "outputs": [],
   "source": [
    "pd.DataFrame(results, columns=[\"model\",\"dataset\",\"score\"])"
   ]
  },
  {
   "cell_type": "markdown",
   "id": "documented-westminster",
   "metadata": {},
   "source": [
    "Hyperparameter tuning"
   ]
  },
  {
   "cell_type": "code",
   "execution_count": null,
   "id": "american-integral",
   "metadata": {},
   "outputs": [],
   "source": [
    "param_grid = {\n",
    "    'random_state'= [42],\n",
    "    'bootstrap': [True, False],\n",
    "    'criterion': [\"gini\",\"entropy\",\"log_loss\"],\n",
    "    'max_depth': [10, 20, 30, 40, 50, 60, 70, 80, 90, 100, 110, 120, None],\n",
    "    'max_features': [None,\"sqrt\",\"log2\"],\n",
    "    'min_samples_leaf': [1, 2, 3, 4, 5],\n",
    "    'min_samples_split': [1, 2, 4, 6, 8, 10, 12],\n",
    "    'n_estimators': [20, 50, 100, 200, 300, 1000]\n",
    "}\n",
    "\n",
    "rf = RandomForestClassifier(random_state=42)\n",
    "grid_search = GridSearchCV(estimator = rf, param_grid = param_grid, cv=10, n_jobs = -1, verbose = 2)\n",
    "\n",
    "grid_search.fit(dataset5.iloc[:,0:-1], dataset5.iloc[:,-1])\n",
    "best_grid = grid_search.best_estimator_"
   ]
  },
  {
   "cell_type": "code",
   "execution_count": null,
   "id": "checked-request",
   "metadata": {},
   "outputs": [],
   "source": [
    "grid_search.best_params_"
   ]
  },
  {
   "cell_type": "code",
   "execution_count": null,
   "id": "covered-parallel",
   "metadata": {},
   "outputs": [],
   "source": [
    "grid_search.best_estimator_"
   ]
  },
  {
   "cell_type": "code",
   "execution_count": null,
   "id": "humanitarian-juvenile",
   "metadata": {},
   "outputs": [],
   "source": [
    "grid_search.best_score_"
   ]
  },
  {
   "cell_type": "code",
   "execution_count": null,
   "id": "informational-pointer",
   "metadata": {},
   "outputs": [],
   "source": [
    "resultados_hyptun = pd.concat([pd.DataFrame(grid_search.cv_results_[\"params\"]),pd.DataFrame(grid_search.cv_results_[\"mean_test_score\"], columns=[\"Accuracy\"])],axis=1)"
   ]
  },
  {
   "cell_type": "code",
   "execution_count": null,
   "id": "saving-dutch",
   "metadata": {},
   "outputs": [],
   "source": [
    "resultados_hyptun.sort_values('Accuracy',ascending=False).head(20)"
   ]
  },
  {
   "cell_type": "markdown",
   "id": "stuck-intro",
   "metadata": {},
   "source": [
    "Guardar modelo"
   ]
  },
  {
   "cell_type": "code",
   "execution_count": null,
   "id": "fatal-newcastle",
   "metadata": {},
   "outputs": [],
   "source": [
    "#rf = RandomForestClassifier(bootstrap=False, n_estimators=200, min_samples_split=2, random_state=42) #Messi\n",
    "rf = RandomForestClassifier(bootstrap=False, n_estimators=100, min_samples_split=4, random_state=42) #Suarez\n",
    "\n",
    "rf = rf.fit(dataset5.iloc[:,0:-1], dataset5.iloc[:,-1])"
   ]
  },
  {
   "cell_type": "code",
   "execution_count": null,
   "id": "double-breathing",
   "metadata": {},
   "outputs": [],
   "source": [
    "filename = \"xG_model_\"+ playername.replace(\" \", \"_\")\n",
    "pickle.dump(rf, open(filename, 'wb'))"
   ]
  },
  {
   "cell_type": "code",
   "execution_count": null,
   "id": "chubby-venezuela",
   "metadata": {},
   "outputs": [],
   "source": [
    "filename = \"data/dataset_\"+ playername.replace(\" \", \"_\")+\".csv\"\n",
    "dataset5.to_csv(filename, index=False)"
   ]
  }
 ],
 "metadata": {
  "kernelspec": {
   "display_name": "tfm_env",
   "language": "python",
   "name": "tfm_env"
  },
  "language_info": {
   "codemirror_mode": {
    "name": "ipython",
    "version": 3
   },
   "file_extension": ".py",
   "mimetype": "text/x-python",
   "name": "python",
   "nbconvert_exporter": "python",
   "pygments_lexer": "ipython3",
   "version": "3.8.5"
  }
 },
 "nbformat": 4,
 "nbformat_minor": 5
}
