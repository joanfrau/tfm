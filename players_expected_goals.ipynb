{
 "cells": [
  {
   "cell_type": "markdown",
   "id": "rotary-teaching",
   "metadata": {},
   "source": [
    "# Expected goals (xG) model"
   ]
  },
  {
   "cell_type": "markdown",
   "id": "speaking-digit",
   "metadata": {},
   "source": [
    "Imports"
   ]
  },
  {
   "cell_type": "code",
   "execution_count": null,
   "id": "understood-friend",
   "metadata": {},
   "outputs": [],
   "source": [
    "import pandas as pd\n",
    "import numpy as np\n",
    "import math\n",
    "import seaborn as sns\n",
    "import matplotlib.pyplot as plt\n",
    "\n",
    "from sklearn.model_selection import train_test_split\n",
    "from sklearn.metrics import confusion_matrix\n",
    "from sklearn import utils\n",
    "\n",
    "from sklearn.linear_model import LogisticRegression\n",
    "from sklearn.ensemble import GradientBoostingClassifier\n",
    "from sklearn.svm import SVC\n",
    "from sklearn.ensemble import RandomForestClassifier\n",
    "from sklearn.model_selection import cross_val_score\n",
    "from sklearn.model_selection import GridSearchCV\n",
    "\n",
    "import random\n",
    "import imblearn\n",
    "import pickle"
   ]
  },
  {
   "cell_type": "markdown",
   "id": "julian-apartment",
   "metadata": {},
   "source": [
    "## Lectura de los datos."
   ]
  },
  {
   "cell_type": "code",
   "execution_count": null,
   "id": "spiritual-smooth",
   "metadata": {},
   "outputs": [],
   "source": [
    "dataset = pd.read_csv(\"data/dataset.csv\")\n",
    "dataset.head()"
   ]
  },
  {
   "cell_type": "markdown",
   "id": "curious-action",
   "metadata": {},
   "source": [
    "## Modelos"
   ]
  },
  {
   "cell_type": "code",
   "execution_count": null,
   "id": "attempted-graph",
   "metadata": {},
   "outputs": [],
   "source": [
    "playername = \"Lionel Andrés Messi Cuccittini\"\n",
    "#playername = \"Luis Alberto Suárez Díaz\""
   ]
  },
  {
   "cell_type": "code",
   "execution_count": null,
   "id": "needed-india",
   "metadata": {},
   "outputs": [],
   "source": [
    "dataset = dataset[dataset[\"player\"]==playername]"
   ]
  },
  {
   "cell_type": "code",
   "execution_count": null,
   "id": "earned-three",
   "metadata": {},
   "outputs": [],
   "source": [
    "dataset.shape"
   ]
  },
  {
   "cell_type": "code",
   "execution_count": null,
   "id": "cardiac-cowboy",
   "metadata": {},
   "outputs": [],
   "source": [
    "print(\"Number No goals\",len(dataset[dataset.goal==0]))\n",
    "print(\"Number goals\",len(dataset[dataset.goal==1]))"
   ]
  },
  {
   "cell_type": "code",
   "execution_count": null,
   "id": "young-childhood",
   "metadata": {},
   "outputs": [],
   "source": [
    "dataset = dataset.drop_duplicates()\n",
    "X = dataset.copy()\n",
    "X.drop([\"player\",\"team\",\"goal\"], axis=1, inplace=True)\n",
    "y = dataset[[\"goal\"]].copy()\n",
    "\n",
    "#SMOTEtlink = imblearn.combine.SMOTETomek(sampling_strategy=\"all\", random_state=42)\n",
    "#X, y = SMOTEtlink.fit_resample(X, y)\n",
    "\n",
    "SMOTEenn = imblearn.combine.SMOTEENN(sampling_strategy=\"minority\", random_state=42)\n",
    "X, y = SMOTEenn.fit_resample(X, y)\n",
    "\n",
    "dataset = pd.concat([X, y], axis=1)"
   ]
  },
  {
   "cell_type": "code",
   "execution_count": null,
   "id": "checked-trinidad",
   "metadata": {},
   "outputs": [],
   "source": [
    "print(\"Number No goals\",len(dataset[dataset.goal==0]))\n",
    "print(\"Number goals\",len(dataset[dataset.goal==1]))"
   ]
  },
  {
   "cell_type": "code",
   "execution_count": null,
   "id": "italic-instrumentation",
   "metadata": {},
   "outputs": [],
   "source": [
    "sns.scatterplot(data=dataset, x=\"angle\", y=\"distance\", hue=\"goal\", s=2)"
   ]
  },
  {
   "cell_type": "code",
   "execution_count": null,
   "id": "excess-input",
   "metadata": {},
   "outputs": [],
   "source": [
    "results = []\n",
    "\n",
    "def call_model(model, dataset_num, X_train, X_test, y_train, y_test):\n",
    "    if model == \"LR\":\n",
    "        clf = LogisticRegression(random_state=42, max_iter=10000)\n",
    "    elif model == \"GBR\":\n",
    "        clf = GradientBoostingClassifier(random_state=42)\n",
    "    elif model == \"SVM\":\n",
    "        clf = SVC(random_state=42, probability=True)\n",
    "    elif model == \"RFC\":\n",
    "        clf = RandomForestClassifier(random_state=42)\n",
    "    \n",
    "    scores = cross_val_score(clf, X_train, y_train, scoring='accuracy', cv=10)\n",
    "    score = np.mean(scores)\n",
    "    clf = clf.fit(X_train, y_train)\n",
    "    pred = clf.predict(X_test)\n",
    "    pred_proba = clf.predict_proba(X_test)\n",
    "    score_t = clf.score(X_test, y_test)\n",
    "    cm = confusion_matrix(y_test, pred)\n",
    "    print(cm)\n",
    "\n",
    "    global results\n",
    "    results.append([model, dataset_num, score])\n",
    "    \n",
    "    return [score, score_t, pred, pred_proba, cm]"
   ]
  },
  {
   "cell_type": "markdown",
   "id": "described-recovery",
   "metadata": {},
   "source": [
    "Posibles datasets"
   ]
  },
  {
   "cell_type": "code",
   "execution_count": null,
   "id": "indirect-butter",
   "metadata": {},
   "outputs": [],
   "source": [
    "dataset1 = dataset[['distance', 'angle','goal']].copy()\n",
    "\n",
    "dataset2 = dataset[['distance', 'angle', 'Head', 'Other', 'preferred_foot',\n",
    "       'not_preferred_foot', 'goal']].copy()\n",
    "\n",
    "dataset3 = dataset[['distance', 'angle', 'Corner', 'Free Kick', 'Open Play', 'Penalty',\n",
    "        'Head', 'Other', 'preferred_foot', 'not_preferred_foot', 'goal']].copy()\n",
    "\n",
    "dataset4 =  dataset[['distance', 'angle', 'under_pressure', 'follows_dribble', 'one_on_one',\n",
    "       'first_time', 'defenders_between', 'Corner', 'Free Kick', 'Open Play', 'Penalty', \n",
    "        'Head', 'Other', 'preferred_foot', 'not_preferred_foot', 'goal']].copy()\n",
    "\n",
    "dataset5 = dataset[['distance', 'angle', 'under_pressure', 'follows_dribble', 'one_on_one',\n",
    "       'first_time', 'defenders_between', 'Corner', 'Free Kick', 'Open Play', 'Penalty', 'Backheel', \n",
    "        'Diving Header', 'Half Volley', 'Lob', 'Normal', 'Overhead Kick', 'Volley', 'Head',\n",
    "        'Other', 'preferred_foot', 'not_preferred_foot', 'goal']].copy()"
   ]
  },
  {
   "cell_type": "code",
   "execution_count": null,
   "id": "anonymous-transformation",
   "metadata": {},
   "outputs": [],
   "source": [
    "X_train, X_test, y_train, y_test = train_test_split(dataset1.iloc[:,:-1], dataset1.iloc[:,-1], test_size=0.25, random_state=42)\n",
    "resf1 = call_model(\"LR\", \"dataset1\", X_train, X_test, y_train, y_test)\n",
    "resf2 = call_model(\"GBR\", \"dataset1\", X_train, X_test, y_train, y_test)\n",
    "resf3 = call_model(\"SVM\", \"dataset1\", X_train, X_test, y_train, y_test)\n",
    "resf4 = call_model(\"RFC\", \"dataset1\", X_train, X_test, y_train, y_test)"
   ]
  },
  {
   "cell_type": "code",
   "execution_count": null,
   "id": "split-westminster",
   "metadata": {},
   "outputs": [],
   "source": [
    "X_train, X_test, y_train, y_test = train_test_split(dataset2.iloc[:,:-1], dataset2.iloc[:,-1], test_size=0.25, random_state=42)\n",
    "res = call_model(\"LR\", \"dataset2\", X_train, X_test, y_train, y_test)\n",
    "res = call_model(\"GBR\", \"dataset2\", X_train, X_test, y_train, y_test)\n",
    "res = call_model(\"SVM\", \"dataset2\", X_train, X_test, y_train, y_test)\n",
    "res = call_model(\"RFC\", \"dataset2\", X_train, X_test, y_train, y_test)"
   ]
  },
  {
   "cell_type": "code",
   "execution_count": null,
   "id": "annual-painting",
   "metadata": {},
   "outputs": [],
   "source": [
    "X_train, X_test, y_train, y_test = train_test_split(dataset3.iloc[:,:-1], dataset3.iloc[:,-1], test_size=0.25, random_state=42)\n",
    "res = call_model(\"LR\", \"dataset3\", X_train, X_test, y_train, y_test)\n",
    "res = call_model(\"GBR\", \"dataset3\", X_train, X_test, y_train, y_test)\n",
    "res = call_model(\"SVM\", \"dataset3\", X_train, X_test, y_train, y_test)\n",
    "res = call_model(\"RFC\", \"dataset3\", X_train, X_test, y_train, y_test)"
   ]
  },
  {
   "cell_type": "code",
   "execution_count": null,
   "id": "sound-czech",
   "metadata": {},
   "outputs": [],
   "source": [
    "X_train, X_test, y_train, y_test = train_test_split(dataset4.iloc[:,:-1], dataset4.iloc[:,-1], test_size=0.25, random_state=42)\n",
    "res = call_model(\"LR\", \"dataset4\", X_train, X_test, y_train, y_test)\n",
    "res = call_model(\"GBR\", \"dataset4\", X_train, X_test, y_train, y_test)\n",
    "res = call_model(\"SVM\", \"dataset4\", X_train, X_test, y_train, y_test)\n",
    "res = call_model(\"RFC\", \"dataset4\", X_train, X_test, y_train, y_test)"
   ]
  },
  {
   "cell_type": "code",
   "execution_count": null,
   "id": "pleasant-taste",
   "metadata": {},
   "outputs": [],
   "source": [
    "X_train, X_test, y_train, y_test = train_test_split(dataset5.iloc[:,:-1], dataset5.iloc[:,-1], test_size=0.25, random_state=42)\n",
    "res = call_model(\"LR\", \"dataset5\", X_train, X_test, y_train, y_test)\n",
    "res = call_model(\"GBR\", \"dataset5\", X_train, X_test, y_train, y_test)\n",
    "res = call_model(\"SVM\", \"dataset5\", X_train, X_test, y_train, y_test)\n",
    "res = call_model(\"RFC\", \"dataset5\", X_train, X_test, y_train, y_test)"
   ]
  },
  {
   "cell_type": "code",
   "execution_count": null,
   "id": "cognitive-ozone",
   "metadata": {},
   "outputs": [],
   "source": [
    "pd.DataFrame(results, columns=[\"model\",\"dataset\",\"score\"])"
   ]
  },
  {
   "cell_type": "markdown",
   "id": "arabic-knock",
   "metadata": {},
   "source": [
    "Hyperparameter tuning"
   ]
  },
  {
   "cell_type": "code",
   "execution_count": null,
   "id": "ceramic-warrant",
   "metadata": {},
   "outputs": [],
   "source": [
    "param_grid = {\n",
    "    'bootstrap': [True],\n",
    "    'criterion': [\"gini\",\"entropy\"],\n",
    "    'max_depth': [10, 20, 30, 40, 50, 60, 70, 80, 90, 100, 110, 120, None],\n",
    "    'max_features': [\"auto\",\"sqrt\",\"log2\"],\n",
    "    'min_samples_leaf': [1, 2, 3, 4, 5],\n",
    "    'min_samples_split': [1, 2, 4, 6, 8, 10, 12],\n",
    "    'n_estimators': [20, 50, 100, 200, 300, 1000]\n",
    "}\n",
    "\n",
    "rf = RandomForestClassifier(random_state=42)\n",
    "grid_search = GridSearchCV(estimator = rf, param_grid = param_grid, \n",
    "                          cv = 10, n_jobs = -1, verbose = 2)\n",
    "\n",
    "grid_search.fit(X_train, y_train)\n",
    "best_grid = grid_search.best_estimator_"
   ]
  },
  {
   "cell_type": "code",
   "execution_count": null,
   "id": "surface-slovak",
   "metadata": {},
   "outputs": [],
   "source": [
    "grid_search.best_params_"
   ]
  },
  {
   "cell_type": "code",
   "execution_count": null,
   "id": "metropolitan-modem",
   "metadata": {},
   "outputs": [],
   "source": [
    "grid_search.best_estimator_"
   ]
  },
  {
   "cell_type": "code",
   "execution_count": null,
   "id": "devoted-contract",
   "metadata": {},
   "outputs": [],
   "source": [
    "grid_search.best_score_"
   ]
  },
  {
   "cell_type": "code",
   "execution_count": null,
   "id": "adapted-student",
   "metadata": {},
   "outputs": [],
   "source": [
    "resultados_hyptun = pd.concat([pd.DataFrame(grid_search.cv_results_[\"params\"]),pd.DataFrame(grid_search.cv_results_[\"mean_test_score\"], columns=[\"Accuracy\"])],axis=1)"
   ]
  },
  {
   "cell_type": "code",
   "execution_count": null,
   "id": "romantic-control",
   "metadata": {},
   "outputs": [],
   "source": [
    "resultados_hyptun.sort_values('Accuracy',ascending=False).head(20)"
   ]
  },
  {
   "cell_type": "markdown",
   "id": "surprising-bibliography",
   "metadata": {},
   "source": [
    "Guardar modelo"
   ]
  },
  {
   "cell_type": "code",
   "execution_count": null,
   "id": "victorian-virginia",
   "metadata": {},
   "outputs": [],
   "source": [
    "rf = RandomForestClassifier(n_estimators=200,random_state=42)\n",
    "rf = rf.fit(dataset5.iloc[:,0:-1], dataset5.iloc[:,-1])"
   ]
  },
  {
   "cell_type": "code",
   "execution_count": null,
   "id": "intended-amendment",
   "metadata": {},
   "outputs": [],
   "source": [
    "filename = \"xG_model_\"+ playername.replace(\" \", \"_\")\n",
    "pickle.dump(rf, open(filename, 'wb'))"
   ]
  },
  {
   "cell_type": "markdown",
   "id": "labeled-tomorrow",
   "metadata": {},
   "source": [
    "Guardar modelo xG no utiliza las tres características más importantes"
   ]
  },
  {
   "cell_type": "code",
   "execution_count": null,
   "id": "color-romance",
   "metadata": {},
   "outputs": [],
   "source": [
    "\"\"\"\n",
    "dataset5_without3MostImportantFeatures = dataset[['under_pressure', 'follows_dribble', 'one_on_one',\n",
    "       'first_time', 'Corner', 'Free Kick', 'Open Play', 'Penalty', 'Backheel', \n",
    "        'Diving Header', 'Half Volley', 'Lob', 'Normal', 'Overhead Kick', 'Volley', 'Head',\n",
    "        'Other', 'preferred_foot', 'not_preferred_foot', 'goal']].copy()\n",
    "\n",
    "rf = RandomForestClassifier(n_estimators=200,random_state=42)\n",
    "rf = rf.fit(dataset5_without3MostImportantFeatures.iloc[:,0:-1], dataset5_without3MostImportantFeatures.iloc[:,-1])\n",
    "\n",
    "filename = \"xG_model_\"+ playername.replace(\" \", \"_\")\n",
    "pickle.dump(rf, open(filename, 'wb'))\n",
    "\"\"\""
   ]
  }
 ],
 "metadata": {
  "kernelspec": {
   "display_name": "tfm_env",
   "language": "python",
   "name": "tfm_env"
  },
  "language_info": {
   "codemirror_mode": {
    "name": "ipython",
    "version": 3
   },
   "file_extension": ".py",
   "mimetype": "text/x-python",
   "name": "python",
   "nbconvert_exporter": "python",
   "pygments_lexer": "ipython3",
   "version": "3.8.5"
  }
 },
 "nbformat": 4,
 "nbformat_minor": 5
}
