{
 "cells": [
  {
   "cell_type": "markdown",
   "id": "individual-hacker",
   "metadata": {},
   "source": [
    "# XAI de los modelos expected goals"
   ]
  },
  {
   "cell_type": "markdown",
   "id": "close-indonesian",
   "metadata": {},
   "source": [
    "Imports"
   ]
  },
  {
   "cell_type": "code",
   "execution_count": null,
   "id": "stable-expert",
   "metadata": {},
   "outputs": [],
   "source": [
    "import pickle\n",
    "import pandas as pd\n",
    "import sklearn\n",
    "import numpy as np\n",
    "from matplotlib import pyplot as plt \n",
    "import seaborn as sns"
   ]
  },
  {
   "cell_type": "code",
   "execution_count": null,
   "id": "russian-vietnamese",
   "metadata": {},
   "outputs": [],
   "source": [
    "import warnings\n",
    "warnings.simplefilter('ignore')"
   ]
  },
  {
   "cell_type": "markdown",
   "id": "exempt-precipitation",
   "metadata": {},
   "source": [
    "Cargar modelo jugador 1"
   ]
  },
  {
   "cell_type": "code",
   "execution_count": null,
   "id": "ruled-bolivia",
   "metadata": {},
   "outputs": [],
   "source": [
    "playername1 = \"Lionel Andrés Messi Cuccittini\"\n",
    "filename_model_player1 = \"xG_model_\"+ playername1.replace(\" \", \"_\")\n",
    "model_player1 = pickle.load(open(filename_model_player1, 'rb'))"
   ]
  },
  {
   "cell_type": "markdown",
   "id": "impressive-purse",
   "metadata": {},
   "source": [
    "Cargar modelo jugador 2"
   ]
  },
  {
   "cell_type": "code",
   "execution_count": null,
   "id": "joined-second",
   "metadata": {},
   "outputs": [],
   "source": [
    "playername2 = \"Luis Alberto Suárez Díaz\"\n",
    "filename_model_player2 = \"xG_model_\"+ playername2.replace(\" \", \"_\")\n",
    "model_player2 = pickle.load(open(filename_model_player2, 'rb'))"
   ]
  },
  {
   "cell_type": "markdown",
   "id": "patient-miami",
   "metadata": {},
   "source": [
    "Dataset\n"
   ]
  },
  {
   "cell_type": "code",
   "execution_count": null,
   "id": "advisory-transportation",
   "metadata": {},
   "outputs": [],
   "source": [
    "playername = 'Zlatan Ibrahimović'\n",
    "#playername = 'Neymar da Silva Santos Junior'\n",
    "#teamname = 'Real Sociedad'"
   ]
  },
  {
   "cell_type": "code",
   "execution_count": null,
   "id": "impressive-director",
   "metadata": {},
   "outputs": [],
   "source": [
    "dataset = pd.read_csv(\"data/dataset.csv\")\n",
    "dataset = dataset[dataset[\"player\"]==playername]\n",
    "dataset = dataset[dataset[\"Head\"]==1]\n",
    "#dataset = dataset[dataset[\"team\"]==teamname]\n",
    "dataset.drop(['player', 'team'], inplace = True, axis = 1) \n",
    "dataset.head()"
   ]
  },
  {
   "cell_type": "code",
   "execution_count": null,
   "id": "downtown-ceramic",
   "metadata": {},
   "outputs": [],
   "source": [
    "dataset.shape"
   ]
  },
  {
   "cell_type": "code",
   "execution_count": null,
   "id": "departmental-complex",
   "metadata": {},
   "outputs": [],
   "source": [
    "print(\"Number No goals\",len(dataset[dataset.goal==0]))\n",
    "print(\"Number goals\",len(dataset[dataset.goal==1]))"
   ]
  },
  {
   "cell_type": "code",
   "execution_count": null,
   "id": "frank-digest",
   "metadata": {},
   "outputs": [],
   "source": [
    "X = dataset.iloc[:,0:-1]\n",
    "Y = dataset.iloc[:,-1]"
   ]
  },
  {
   "cell_type": "code",
   "execution_count": null,
   "id": "burning-effort",
   "metadata": {},
   "outputs": [],
   "source": [
    "result_model_player1 = model_player1.predict_proba(X)\n",
    "result1 = result_model_player1[:,1]\n",
    "print(result1)\n",
    "print(sum(result1))\n",
    "print(np.mean(result1))"
   ]
  },
  {
   "cell_type": "code",
   "execution_count": null,
   "id": "steady-benchmark",
   "metadata": {},
   "outputs": [],
   "source": [
    "result_model_player2 = model_player2.predict_proba(X)\n",
    "result2 = result_model_player2[:,1]\n",
    "print(result2)\n",
    "print(sum(result2))\n",
    "print(np.mean(result2))"
   ]
  }
 ],
 "metadata": {
  "kernelspec": {
   "display_name": "tfm_env",
   "language": "python",
   "name": "tfm_env"
  },
  "language_info": {
   "codemirror_mode": {
    "name": "ipython",
    "version": 3
   },
   "file_extension": ".py",
   "mimetype": "text/x-python",
   "name": "python",
   "nbconvert_exporter": "python",
   "pygments_lexer": "ipython3",
   "version": "3.8.5"
  }
 },
 "nbformat": 4,
 "nbformat_minor": 5
}
