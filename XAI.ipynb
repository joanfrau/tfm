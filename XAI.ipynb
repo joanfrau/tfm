{
 "cells": [
  {
   "cell_type": "markdown",
   "id": "saving-essay",
   "metadata": {},
   "source": [
    "# XAI de los modelos expected goals"
   ]
  },
  {
   "cell_type": "markdown",
   "id": "split-controversy",
   "metadata": {},
   "source": [
    "Imports"
   ]
  },
  {
   "cell_type": "code",
   "execution_count": null,
   "id": "suitable-listing",
   "metadata": {},
   "outputs": [],
   "source": [
    "import pickle\n",
    "from sklearn.model_selection import train_test_split\n",
    "import pandas as pd\n",
    "import sklearn\n",
    "import math\n",
    "import numpy as np\n",
    "import matplotlib.pyplot as plt\n",
    "import seaborn as sns"
   ]
  },
  {
   "cell_type": "code",
   "execution_count": null,
   "id": "incorporated-chair",
   "metadata": {},
   "outputs": [],
   "source": [
    "import warnings\n",
    "warnings.simplefilter('ignore')"
   ]
  },
  {
   "cell_type": "markdown",
   "id": "dangerous-french",
   "metadata": {},
   "source": [
    "Cargar modelo"
   ]
  },
  {
   "cell_type": "code",
   "execution_count": null,
   "id": "spectacular-authority",
   "metadata": {},
   "outputs": [],
   "source": [
    "playername = \"Lionel Andrés Messi Cuccittini\"\n",
    "#playername = \"Luis Alberto Suárez Díaz\""
   ]
  },
  {
   "cell_type": "code",
   "execution_count": null,
   "id": "gothic-battery",
   "metadata": {},
   "outputs": [],
   "source": [
    "filename_model = \"xG_model_\"+ playername.replace(\" \", \"_\")\n",
    "model = pickle.load(open(filename_model, 'rb'))"
   ]
  },
  {
   "cell_type": "code",
   "execution_count": null,
   "id": "foster-adolescent",
   "metadata": {},
   "outputs": [],
   "source": [
    "datasetname = \"data/dataset_\" + playername.replace(\" \", \"_\") + \".csv\"\n",
    "dataset = pd.read_csv(datasetname)\n",
    "dataset.head()"
   ]
  },
  {
   "cell_type": "code",
   "execution_count": null,
   "id": "determined-venue",
   "metadata": {},
   "outputs": [],
   "source": [
    "dataset = pd.read_csv(\"data/all_shots.csv\")\n",
    "dataset = dataset[dataset[\"player\"]==playername]\n",
    "dataset.head(20)"
   ]
  },
  {
   "cell_type": "code",
   "execution_count": null,
   "id": "patient-yugoslavia",
   "metadata": {},
   "outputs": [],
   "source": [
    "X = dataset.iloc[:,0:-1]\n",
    "Y = dataset.iloc[:,-1]"
   ]
  },
  {
   "cell_type": "markdown",
   "id": "focal-weight",
   "metadata": {},
   "source": [
    "## Explicación local"
   ]
  },
  {
   "cell_type": "code",
   "execution_count": null,
   "id": "designed-backing",
   "metadata": {},
   "outputs": [],
   "source": [
    "def calculate_distance(location):\n",
    "    porteria1 = [0, 40]\n",
    "    porteria2 = [120, 40]\n",
    "    d1 = math.sqrt(((location[0]-porteria1[0])**2)+((location[1]-porteria1[1])**2))\n",
    "    d2 = math.sqrt(((location[0]-porteria2[0])**2)+((location[1]-porteria2[1])**2))\n",
    "    return min(d1,d2)\n",
    "\n",
    "def calculate_angle(location):\n",
    "    x=min((120-location[0]),(location[0]))\n",
    "    y=(40-location[1])\n",
    "    tan_angle = ((7.32*x)/((x**2)+(y**2)-((7.32/2)**2)))  #7.32 es el tamaño de la porteria\n",
    "    angle = np.arctan(tan_angle) # en radianes\n",
    "    if angle < 0:\n",
    "        angle = np.pi + angle\n",
    "    return angle"
   ]
  },
  {
   "cell_type": "code",
   "execution_count": null,
   "id": "crazy-fifteen",
   "metadata": {},
   "outputs": [],
   "source": [
    "under_pressure = 0\n",
    "follows_dribble = 0\n",
    "one_on_one = 0\n",
    "first_time = 0\n",
    "defenders_between = 1\n",
    "Corner = 0\n",
    "Free_Kick = 0\n",
    "Open_Play = 0\n",
    "Penalty = 1\n",
    "Backheel = 0\n",
    "Diving_Header = 0\n",
    "Half_Volley = 0\n",
    "Lob = 0\n",
    "Normal = 1\n",
    "Overhead_Kick = 0\n",
    "Volley = 0\n",
    "Head = 0\n",
    "Other = 0\n",
    "preferred_foot = 1\n",
    "not_preferred_foot = 0\n",
    "x = 11\n",
    "y = 38\n",
    "distance = calculate_distance([x,y])                               \n",
    "angle = calculate_angle([x,y])   "
   ]
  },
  {
   "cell_type": "code",
   "execution_count": null,
   "id": "upper-doctrine",
   "metadata": {},
   "outputs": [],
   "source": [
    "shot = pd.DataFrame(np.array([[distance, angle, under_pressure, follows_dribble, one_on_one, first_time, defenders_between, \n",
    "                 Corner, Free_Kick, Open_Play, Penalty, Backheel, Diving_Header, Half_Volley, Lob, Normal, \n",
    "                 Overhead_Kick, Volley, Head, Other, preferred_foot, not_preferred_foot]]),\n",
    "               columns=[\"Distance\", \"Angle\", \"Under_pressure\", \"Follows_dribble\", \"One_on_one\", \"First_time\", \"Defenders_between\", \n",
    "                 \"Corner\", \"Free_Kick\", \"Open_Play\", \"Penalty\", \"Backheel\", \"Diving_Header\", \"Half_Volley\", \"Lob\", \"Normal\", \n",
    "                 \"Overhead_Kick\", \"Volley\", \"Head\", \"Other\", \"Preferred_foot\", \"Not_preferred_foot\"])\n",
    "\n",
    "result = model.predict_proba(shot)\n",
    "print(result[0][1])"
   ]
  },
  {
   "cell_type": "markdown",
   "id": "circular-bottle",
   "metadata": {},
   "source": [
    "### SHAP"
   ]
  },
  {
   "cell_type": "code",
   "execution_count": null,
   "id": "abstract-variable",
   "metadata": {},
   "outputs": [],
   "source": [
    "import shap\n",
    "from shap import Explainer\n",
    "from aix360.algorithms.shap import KernelExplainer\n",
    "\n",
    "shap.initjs()"
   ]
  },
  {
   "cell_type": "markdown",
   "id": "previous-singing",
   "metadata": {},
   "source": [
    "Representación de una sola predicción"
   ]
  },
  {
   "cell_type": "code",
   "execution_count": null,
   "id": "vocal-small",
   "metadata": {},
   "outputs": [],
   "source": [
    "explainer = shap.Explainer(model.predict, X)\n",
    "shap_values = explainer(shot)"
   ]
  },
  {
   "cell_type": "code",
   "execution_count": null,
   "id": "boxed-outreach",
   "metadata": {},
   "outputs": [],
   "source": [
    "shapexplainer = KernelExplainer(model.predict_proba, X)\n",
    "shap_values = shapexplainer.explain_instance(shot.iloc[0])\n",
    "shap.force_plot(shapexplainer.explainer.expected_value[1], shap_values[1], shot.iloc[0])"
   ]
  },
  {
   "cell_type": "markdown",
   "id": "spatial-macro",
   "metadata": {},
   "source": [
    "### LIME"
   ]
  },
  {
   "cell_type": "code",
   "execution_count": null,
   "id": "advance-collector",
   "metadata": {},
   "outputs": [],
   "source": [
    "import lime\n",
    "from lime import lime_tabular"
   ]
  },
  {
   "cell_type": "code",
   "execution_count": null,
   "id": "primary-battlefield",
   "metadata": {},
   "outputs": [],
   "source": [
    "explainer = lime_tabular.LimeTabularExplainer(\n",
    "    training_data=np.array(X),\n",
    "    feature_names=X.columns,\n",
    "    class_names=['No goal', 'Goal'],\n",
    "    mode='classification'\n",
    ")"
   ]
  },
  {
   "cell_type": "code",
   "execution_count": null,
   "id": "minus-holder",
   "metadata": {},
   "outputs": [],
   "source": [
    "exp = explainer.explain_instance(\n",
    "    data_row=shot.iloc[0], \n",
    "    predict_fn=model.predict_proba,\n",
    "    num_features=22\n",
    ")\n",
    "\n",
    "exp.show_in_notebook(show_table=True)"
   ]
  },
  {
   "cell_type": "markdown",
   "id": "hindu-lesson",
   "metadata": {},
   "source": [
    "## Explicación global"
   ]
  },
  {
   "cell_type": "markdown",
   "id": "indian-birmingham",
   "metadata": {},
   "source": [
    "### Propio Modelo"
   ]
  },
  {
   "cell_type": "code",
   "execution_count": null,
   "id": "polish-essay",
   "metadata": {},
   "outputs": [],
   "source": [
    "print(model.feature_importances_)\n",
    "importances = model.feature_importances_\n",
    "\n",
    "indices = np.argsort(importances)\n",
    "features = X.columns\n",
    "plt.figure(figsize=(12, 8))\n",
    "plt.title('Feature Importances')\n",
    "plt.barh(range(len(indices)), importances[indices], color='b', align='center')\n",
    "plt.yticks(range(len(indices)), [features[i] for i in indices])\n",
    "plt.xlabel('Relative Importance')\n",
    "plt.show()"
   ]
  },
  {
   "cell_type": "markdown",
   "id": "designed-behavior",
   "metadata": {},
   "source": [
    "### SHAP"
   ]
  },
  {
   "cell_type": "code",
   "execution_count": null,
   "id": "serious-norfolk",
   "metadata": {},
   "outputs": [],
   "source": [
    "explainer = shap.Explainer(model.predict, X)\n",
    "shap_values = explainer(X)"
   ]
  },
  {
   "cell_type": "code",
   "execution_count": null,
   "id": "boolean-comedy",
   "metadata": {},
   "outputs": [],
   "source": [
    "shap.plots.bar(shap_values, max_display=22)"
   ]
  },
  {
   "cell_type": "code",
   "execution_count": null,
   "id": "romance-proportion",
   "metadata": {},
   "outputs": [],
   "source": [
    "shap.plots.beeswarm(shap_values, max_display=22)"
   ]
  }
 ],
 "metadata": {
  "kernelspec": {
   "display_name": "aix360",
   "language": "python",
   "name": "aix360"
  },
  "language_info": {
   "codemirror_mode": {
    "name": "ipython",
    "version": 3
   },
   "file_extension": ".py",
   "mimetype": "text/x-python",
   "name": "python",
   "nbconvert_exporter": "python",
   "pygments_lexer": "ipython3",
   "version": "3.6.13"
  }
 },
 "nbformat": 4,
 "nbformat_minor": 5
}
